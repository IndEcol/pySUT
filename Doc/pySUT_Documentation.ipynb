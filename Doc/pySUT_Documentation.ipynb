{
 "metadata": {
  "name": "",
  "signature": "sha256:74c7ef0d0c2d77194e6890f36933b9ca26391ed7f11ff1100a99c8cce276c941"
 },
 "nbformat": 3,
 "nbformat_minor": 0,
 "worksheets": [
  {
   "cells": [
    {
     "cell_type": "heading",
     "level": 1,
     "metadata": {},
     "source": [
      "pySUT"
     ]
    },
    {
     "cell_type": "heading",
     "level": 3,
     "metadata": {},
     "source": [
      "Handling Supply and Use Tables in Python - Documentation and Tutorial"
     ]
    },
    {
     "cell_type": "markdown",
     "metadata": {},
     "source": [
      "Supply and Use Tables (SUT) are a standard accounting framework for industrial activities (http://unstats.un.org/unsd/statcom/doc08/SNA-Chapter14.pdf). They are the basis of input-output models and can be used in modeling product systems in life cycle assessment (Suh and Weidema 2010) The pySUT package offers a toolbox for modification of SUTs, and a comprehensive set of methods to allocate co-production to transform the SUT into an input-output model (Majeau-Bettez et al. 2014).\n",
      "This project is work in progress, and a first, unit-tested version is released on GitHub.\n",
      "Below you find a quick tutorial and demonstration of the central feastures of the class SupplyUseTable.\n",
      "\n",
      "We provide two advanced examples for multiregional SUTs, one for the generalized version of the commodity technology construct and another one for the generalized version of the byproduct technology construct.\n",
      "\n",
      "For more documentation, please check the source code."
     ]
    },
    {
     "cell_type": "heading",
     "level": 3,
     "metadata": {},
     "source": [
      "Dependencies"
     ]
    },
    {
     "cell_type": "markdown",
     "metadata": {},
     "source": [
      "Python 3.0 or later <br>\n",
      "numpy<br>\n",
      "scipy<br>\n",
      "matplotlib.pyplot<br>"
     ]
    },
    {
     "cell_type": "heading",
     "level": 3,
     "metadata": {},
     "source": [
      "Installation and import"
     ]
    },
    {
     "cell_type": "heading",
     "level": 4,
     "metadata": {},
     "source": [
      "a) Installation as package"
     ]
    },
    {
     "cell_type": "markdown",
     "metadata": {},
     "source": [
      "Pull the package via git pull or download as .zip file and unpack. Choose a convenient location (Here: 'C:\\MyPythonPackages\\'). Then open a console, change to the directory ../pySUT-master/, and install the package from the command line:\n",
      "\n",
      "    python setup.py install\n",
      "\n",
      "This makes the package available to Python. At any other place in a system with the same python installation, pydsm is now ready to be imported simply by\n",
      "\n",
      "    import pysut\n",
      "\n",
      "This setup also allows us to run the unit test:\n",
      "\n",
      "    import unittest\n",
      "\n",
      "    import pysut\n",
      "\n",
      "    import pysut.tests\n",
      "\n",
      "    unittest.main(pysut.tests, verbosity=2)\n",
      "\n",
      "Or, to run a specific test\n",
      "\n",
      "    unittest.main(pysut.tests.test_allocations_constructs, verbosity=2)\n"
     ]
    },
    {
     "cell_type": "heading",
     "level": 4,
     "metadata": {},
     "source": [
      "b) Manual installation, by modifying the python path"
     ]
    },
    {
     "cell_type": "markdown",
     "metadata": {},
     "source": [
      "Pull package via git pull or download as .zip file and unpack. Choose a convenient location (Here: 'C:\\MyPythonPackages\\'). \n",
      "The folder with the class is called pySUT-master, and there is another folder named pydsm inside. The latter one contains the actual class, you can see this from the presence of \\_\\_init\\_\\_.py \n",
      "Then the class needs to be imported. This can be done by adding the path of the class file pysut.py to the system path, and to import the class from there:"
     ]
    },
    {
     "cell_type": "code",
     "collapsed": false,
     "input": [
      "import sys\n",
      "sys.path.append('C:\\\\MyPythonPackages\\\\pySUT-Master\\\\pysut\\\\') "
     ],
     "language": "python",
     "metadata": {},
     "outputs": [],
     "prompt_number": 1
    },
    {
     "cell_type": "markdown",
     "metadata": {},
     "source": [
      "Just put your own path in the command above, and use \\\\ for subfolders. Again, the paths needs to point to the folder where the \\_\\_init\\_\\_.py is located.\n",
      "Now, the class can be imported:"
     ]
    },
    {
     "cell_type": "code",
     "collapsed": false,
     "input": [
      "from pysut import SupplyUseTable"
     ],
     "language": "python",
     "metadata": {},
     "outputs": [],
     "prompt_number": 2
    },
    {
     "cell_type": "heading",
     "level": 3,
     "metadata": {},
     "source": [
      "Basic example: "
     ]
    },
    {
     "cell_type": "markdown",
     "metadata": {},
     "source": [
      "Now, the class is ready to use. \n",
      "We first define a simple supply and use table:"
     ]
    },
    {
     "cell_type": "code",
     "collapsed": false,
     "input": [
      "import numpy as np\n",
      "\n",
      "Y_Test = np.array([11,4,3,0,5])\n",
      "\n",
      "V_Test = np.array([ [30,1,1,1,0], # in pySUT, the supply table is always in commodity by industry!\n",
      "                    [1,5,1,0,0],\n",
      "                    [2,0,3,1,0],\n",
      "                    [0,0,1,0,0],\n",
      "                    [0,0,0,0,8]])\n",
      "\n",
      "U_Test = np.array([ [12,4,5,1,0],\n",
      "                    [1,1,1,0,0],\n",
      "                    [0,1,1,1,0],\n",
      "                    [1,0,0,0,0],\n",
      "                    [0,1,1,1,0]])               \n",
      "                    \n",
      "F_Test = np.array([ [30,5,18,22.03,7],\n",
      "                    [0.4,0.04,1,0.98,0.8]]) \n"
     ],
     "language": "python",
     "metadata": {},
     "outputs": [],
     "prompt_number": 3
    },
    {
     "cell_type": "markdown",
     "metadata": {},
     "source": [
      "We now create an instance of the SUT object and perform a number of operations."
     ]
    },
    {
     "cell_type": "code",
     "collapsed": false,
     "input": [
      "TestSUT = SupplyUseTable(V = V_Test, U = U_Test, Y = Y_Test, F = F_Test)\n",
      "TestSUT.dimension_check()"
     ],
     "language": "python",
     "metadata": {},
     "outputs": [
      {
       "metadata": {},
       "output_type": "pyout",
       "prompt_number": 4,
       "text": [
        "('<br><b> Checking dimensions of SUT structure</b><br>Supply table is present with 5 rows (products) and 5 columns (industries).<br>Use table is present with 5 rows (products) and 5 columns (industries).<br>Final demand is present with 5 rows (products) and 1 column (FD categories).<br>Industry extensions are present with 2 rows (stressors) and 5 columns (industries).<br>FD extensions are not present.<br>Trade link is not present.<br>',\n",
        " 1)"
       ]
      }
     ],
     "prompt_number": 4
    },
    {
     "cell_type": "markdown",
     "metadata": {},
     "source": [
      "An important quality check is the market balance B:\n",
      "$$ B = V\\cdot e - U\\cdot e - Y\\cdot e$$"
     ]
    },
    {
     "cell_type": "code",
     "collapsed": false,
     "input": [
      "MarketBal = TestSUT.market_balance()\n",
      "print(MarketBal)"
     ],
     "language": "python",
     "metadata": {},
     "outputs": [
      {
       "output_type": "stream",
       "stream": "stdout",
       "text": [
        "[0 0 0 0 0]\n"
       ]
      }
     ],
     "prompt_number": 5
    },
    {
     "cell_type": "markdown",
     "metadata": {},
     "source": [
      "With U, V, and F given, we can apply constructs to the SUT, for example, the industry technology construct (ITC):"
     ]
    },
    {
     "cell_type": "code",
     "collapsed": false,
     "input": [
      "A_ITC = TestSUT.Build_ITC_A_matrix_cxc()\n",
      "print(A_ITC)\n",
      "S_ITC = TestSUT.Build_ITC_cxc_S()\n",
      "print(S_ITC);"
     ],
     "language": "python",
     "metadata": {},
     "outputs": [
      {
       "output_type": "stream",
       "stream": "stdout",
       "text": [
        "[[ 0.39118457  0.64718615  0.62121212  0.83333333  0.        ]\n",
        " [ 0.03764922  0.14718615  0.09343434  0.16666667  0.        ]\n",
        " [ 0.02525253  0.14285714  0.16666667  0.16666667  0.        ]\n",
        " [ 0.02754821  0.004329    0.01010101  0.          0.        ]\n",
        " [ 0.02525253  0.14285714  0.16666667  0.16666667  0.        ]]\n",
        "[[ 1.27639578  1.15367965  3.63886364  3.          0.875     ]\n",
        " [ 0.03112029  0.03030303  0.1690404   0.16666667  0.1       ]]\n"
       ]
      }
     ],
     "prompt_number": 6
    },
    {
     "cell_type": "markdown",
     "metadata": {},
     "source": [
      "In the printout above, the upper matrix is the A-matrix in the ITC construct, and below, the allocated emissions S are displayed."
     ]
    },
    {
     "cell_type": "heading",
     "level": 3,
     "metadata": {},
     "source": [
      "Advanced example 1: Aggregating and re-sorting products and industries:"
     ]
    },
    {
     "cell_type": "markdown",
     "metadata": {},
     "source": [
      "Supply and use tables are commonly not square, and the order of products or industries may not be as desirable. The following 5x4 tables cannot by turned into an A-matrix without further assumptions, and we resolve this conflict by aggregating products 3 and 4. At the same time, we re-sort the products."
     ]
    },
    {
     "cell_type": "code",
     "collapsed": false,
     "input": [
      "import numpy as np\n",
      "\n",
      "V_Test_nonsquare = np.array([    # in pySUT, the supply table is always in commodity by industry!\n",
      "                    [30,1,1,1,0],\n",
      "                    [1,5,1,0,0],\n",
      "                    [1,0,1,1,0],\n",
      "                    [1,0,2,1,0],\n",
      "                    [0,0,1,0,0],\n",
      "                    [0,0,0,0,8]])\n",
      "\n",
      "U_Test_nonsquare = np.array([ \n",
      "                    [12,4,5,1,0],\n",
      "                    [1,1,1,0,0],\n",
      "                    [0,1,0,1,0],\n",
      "                    [0,0,1,0,0],\n",
      "                    [1,0,0,0,0],\n",
      "                    [0,1,1,1,0]])  \n",
      "    \n",
      "NonSquareSUT = SupplyUseTable(V = V_Test_nonsquare, U = U_Test_nonsquare)    \n",
      "\n",
      "AggregationVector = np.array([0,1,2,2,3,4]) # Aggregate products 2 and 3 to 2\n",
      "AggregationMatrix = NonSquareSUT.build_Aggregation_Matrix(AggregationVector)\n",
      "\n",
      "ResortingVector   = np.array([3,1,2,0,4]) # Swap positions of products and industries 0 and 3\n",
      "ResortingMatrix   = NonSquareSUT.build_Aggregation_Matrix(ResortingVector) \n",
      "\n"
     ],
     "language": "python",
     "metadata": {},
     "outputs": [],
     "prompt_number": 7
    },
    {
     "cell_type": "markdown",
     "metadata": {},
     "source": [
      "Both aggregation and resorting use the same routine for creating a matrix out of the aggregation/resorting vector/list. The difference is that the method aggregate_rearrange_products(PA, PR) applies the aggregation matrix only to the products, but the resorting is applied to both products and industries. We can now aggregate and resort the SUT, and apply the CTC construct, for example."
     ]
    },
    {
     "cell_type": "code",
     "collapsed": false,
     "input": [
      "NonSquareSUT.aggregate_rearrange_products(AggregationMatrix,ResortingMatrix)\n",
      "print(NonSquareSUT.V)\n",
      "print(NonSquareSUT.U)"
     ],
     "language": "python",
     "metadata": {},
     "outputs": [
      {
       "output_type": "stream",
       "stream": "stdout",
       "text": [
        "[[  0.   0.   1.   0.   0.]\n",
        " [  0.   5.   1.   1.   0.]\n",
        " [  2.   0.   3.   2.   0.]\n",
        " [  1.   1.   1.  30.   0.]\n",
        " [  0.   0.   0.   0.   8.]]\n",
        "[[  0.   0.   0.   1.   0.]\n",
        " [  0.   1.   1.   1.   0.]\n",
        " [  1.   1.   1.   0.   0.]\n",
        " [  1.   4.   5.  12.   0.]\n",
        " [  1.   1.   1.   0.   0.]]\n"
       ]
      }
     ],
     "prompt_number": 8
    },
    {
     "cell_type": "code",
     "collapsed": false,
     "input": [
      "A_CTC = NonSquareSUT.Build_CTC_A_matrix_cxc()\n",
      "print(A_CTC)"
     ],
     "language": "python",
     "metadata": {},
     "outputs": [
      {
       "output_type": "stream",
       "stream": "stdout",
       "text": [
        "[[ 0.02430556 -0.00694444 -0.01736111  0.03472222  0.        ]\n",
        " [ 0.81944444  0.19444444 -0.01388889  0.02777778  0.        ]\n",
        " [-0.72916667  0.20833333  0.52083333 -0.04166667  0.        ]\n",
        " [ 2.94791667  0.72916667  0.32291667  0.35416667  0.        ]\n",
        " [-0.72916667  0.20833333  0.52083333 -0.04166667  0.        ]]\n"
       ]
      }
     ],
     "prompt_number": 9
    },
    {
     "cell_type": "heading",
     "level": 3,
     "metadata": {},
     "source": [
      "Advanced example 2: Commodity technology construct and alternative activity allocation"
     ]
    },
    {
     "cell_type": "markdown",
     "metadata": {},
     "source": [
      "Under the alternative activity assumption, the 'production recipe' of an alternative activity is taken as proxy to disaggregate the coproducts from a given activity (Majeau-Bettez et al. 2014). In the example below, industry 1 has product 2 as byproduct, and industries 2 and 3 have product 2 as their main product. \n",
      "The Gamma matrix assigns an alternative producer to each commodity, and for product 2, this is industry 3. The 'production recipe' of industry 3 is then used as a proxy to allocate the requirements for the production of product 2 in industry 1.\n",
      "The E_bar matrix contains the information about the main products of each industry.\n",
      "The resulting A matrix has the size 3x3.\n",
      "This construct is the generalized version of the commodity technology assumption."
     ]
    },
    {
     "cell_type": "code",
     "collapsed": false,
     "input": [
      "V      = np.array([[2, 0, 0, 0], # Supply table, two suppliers that have commodity 2 as main product\n",
      "                   [1, 1, 3, 0],\n",
      "                   [0, 0, 0, 11]], dtype=float)\n",
      "\n",
      "U      = np.array([[ 0.  ,  0.  ,  0.  ,  0.  ], # Use table, 3 products x 4 industries\n",
      "                   [ 0.  ,  0.  ,  0.  ,  0.75],\n",
      "                   [ 4.  ,  0.75,  2.  ,  0.  ]])\n",
      "\n",
      "        # Define alternate activities, used in alternative activity allocation.\n",
      "Gamma = np.array([ # industry by commodity table, each product has one alternative supplier\n",
      "        #    i        j        k\n",
      "            [1,       0,       0],       # I\n",
      "            [0,       0,       0],       # J1\n",
      "            [0,       1,       0],       # J2\n",
      "            [0,       0,       1]        # K\n",
      "            ])\n",
      "\n",
      "        # Identifies primary product of each industry\n",
      "E_bar = np.array([\n",
      "        #    I      J1      J2      K\n",
      "            [1,       0,       0,       0],     #  i\n",
      "            [0,       1,       1,       0],     #  j\n",
      "            [0,       0,       0,       1],     #  k\n",
      "            ])\n",
      "\n",
      "SUT    = SupplyUseTable(V =V, U =U, Gamma =Gamma, E_bar =E_bar)\n",
      "\n",
      "A, __, __, __, Z, __ = SUT.aac_agg(keep_size=False)\n",
      "\n",
      "print(A)"
     ],
     "language": "python",
     "metadata": {},
     "outputs": [
      {
       "output_type": "stream",
       "stream": "stdout",
       "text": [
        "residual: -5.00e-01\n",
        "residual: +0.00e+00\n",
        "number of iterations:3\n",
        "[[ 0.          0.          0.        ]\n",
        " [ 0.          0.          0.06818182]\n",
        " [ 1.66666667  0.68333333  0.        ]]\n"
       ]
      }
     ],
     "prompt_number": 10
    },
    {
     "cell_type": "markdown",
     "metadata": {},
     "source": [
      "pySUT contains routines to estimate both the E_bar and the Gamma matrix. The estimation principles are documented in the source code. With the 3 region 3 products 2 industries supply table defined below, we can obtain the following matrix of main products. Note that the column for industry J in No is empty, because it does not produce anyting."
     ]
    },
    {
     "cell_type": "code",
     "collapsed": false,
     "input": [
      "        # Case 2: 3 regions, 2 industries, 3 products:\n",
      "        #--------------------------------------------\n",
      "\n",
      "        # No production of j in Canada\n",
      "        # No production of i or k in Norway\n",
      "        # No production of j in US\n",
      "\n",
      "V_3r2i3p = np.array([\n",
      "                         #   Ca   Ca     No   No     US   US\n",
      "                         #   I    J      I    J      I    J\n",
      "                         [   4.,  0.,    0.,  0.,    0.,  0.,  ],     #i  Ca\n",
      "                         [   0.,  0.,    0.,  0.,    0.,  0.,  ],     #j  Ca\n",
      "                         [   0.,  3.,    0.,  0.,    0.,  0.,  ],     #k  Ca\n",
      "                         #\n",
      "                         [   0.,  0.,    0.,  0.,    0.,  0.,  ],     #i  No\n",
      "                         [   0.,  0.,    3.,  0.,    0.,  0.,  ],     #j  No\n",
      "                         [   0.,  0.,    0.,  0.,    0.,  0.,  ],     #k  No\n",
      "                         #\n",
      "                         [   0.,  0.,    0.,  0.,    8.,  0.,  ],     #i  US\n",
      "                         [  0.13,  0.2,    0.45,  0.,    0.5,  0.78,    ],     #j  US\n",
      "                         [   0.,  0.,    0.,  0.,    0.,  9.,  ]])    #k  US\n",
      "\n",
      "U_3r2i3p = np.array([\n",
      "                         #   Ca  Ca    No  No     US   US\n",
      "                         #   I   J     I   J      I    J\n",
      "                         [  .0, .1,   .5,  0,    0,  0,  ],     #i  Ca\n",
      "                         [   0,  0,    0,  0,    0,  0,  ],     #j  Ca\n",
      "                         [  .2, .0,    0,  0,    0,  0,  ],     #k  Ca\n",
      "                         #\n",
      "                         [   0,  0,    0,  0,    0,  0,  ],     #i  No\n",
      "                         [  .3,  0,   .0,  0,   .5,  0,  ],     #j  No\n",
      "                         [   0,  0,    0,  0,    0,  0,  ],     #k  No\n",
      "                         #\n",
      "                         [   0,  0,    0,  0,   .0, .9,  ],     #i  US\n",
      "                         [   0,  0,    0,  0,    0,  0,  ],     #j  US\n",
      "                         [  .1,  0,   .4,  0,   .5, .0,  ]])    #k  US\n",
      "\n",
      "SUT   = SupplyUseTable(V = V_3r2i3p, regions =3)\n",
      "SUT.build_E_bar()\n",
      "print(SUT.E_bar)"
     ],
     "language": "python",
     "metadata": {},
     "outputs": [
      {
       "output_type": "stream",
       "stream": "stdout",
       "text": [
        "[[1 0 0 0 0 0]\n",
        " [0 0 0 0 0 0]\n",
        " [0 1 0 0 0 0]\n",
        " [0 0 0 0 0 0]\n",
        " [0 0 1 0 0 0]\n",
        " [0 0 0 0 0 0]\n",
        " [0 0 0 0 1 0]\n",
        " [0 0 0 0 0 0]\n",
        " [0 0 0 0 0 1]]\n"
       ]
      }
     ],
     "prompt_number": 11
    },
    {
     "cell_type": "markdown",
     "metadata": {},
     "source": [
      "With the same instance of the class, we can also estimate the alternate activity matrix Gamma, and then build a multiregional A-matrix in the alternative activity construct (AAC), the generalized version of the commodity technology construct."
     ]
    },
    {
     "cell_type": "code",
     "collapsed": false,
     "input": [
      "SUT_new = SupplyUseTable(V = V_3r2i3p, U = U_3r2i3p, E_bar = SUT.E_bar, regions =3)\n",
      "SUT_new.build_mr_Gamma()\n",
      "print(SUT_new.Gamma)\n",
      "\n",
      "A, __, __, __, Z, __ = SUT_new.aac_agg(keep_size=True, res_tol = 1e-8)\n",
      "\n",
      "print(A)"
     ],
     "language": "python",
     "metadata": {},
     "outputs": [
      {
       "output_type": "stream",
       "stream": "stdout",
       "text": [
        "[[ 1.          0.          0.          0.33333333  0.          0.          0.\n",
        "   0.          0.        ]\n",
        " [ 0.          0.          1.          0.          0.          0.25        0.\n",
        "   0.          0.        ]\n",
        " [ 0.          1.          0.          0.          1.          0.          0.\n",
        "   1.          0.        ]\n",
        " [ 0.          0.          0.          0.          0.          0.          0.\n",
        "   0.          0.        ]\n",
        " [ 0.          0.          0.          0.66666667  0.          0.          1.\n",
        "   0.          0.        ]\n",
        " [ 0.          0.          0.          0.          0.          0.75        0.\n",
        "   0.          1.        ]]\n",
        "residual: -8.33e-01\n",
        "residual: +1.25e-01\n",
        "residual: -1.87e-02\n",
        "residual: +2.81e-03\n",
        "residual: -4.21e-04\n",
        "residual: +6.32e-05\n",
        "residual: -9.48e-06\n",
        "residual: +1.42e-06\n",
        "residual: -2.13e-07\n",
        "residual: +3.20e-08\n",
        "residual: -4.80e-09\n",
        "residual: +7.20e-10\n",
        "number of iterations:13\n",
        "[[-0.00471014  0.          0.0236715   0.          0.14492754  0.\n",
        "  -0.00905797  0.14492754 -0.01256039]\n",
        " [ 0.          0.          0.          0.          0.          0.          0.\n",
        "   0.          0.        ]\n",
        " [ 0.05        0.          0.          0.          0.          0.          0.\n",
        "   0.          0.        ]\n",
        " [ 0.          0.          0.          0.          0.          0.          0.\n",
        "   0.          0.        ]\n",
        " [ 0.075       0.          0.          0.          0.          0.          0.0625\n",
        "   0.          0.        ]\n",
        " [ 0.          0.          0.          0.          0.          0.          0.\n",
        "   0.          0.        ]\n",
        " [ 0.          0.          0.          0.          0.          0.          0.\n",
        "   0.          0.1       ]\n",
        " [ 0.          0.          0.          0.          0.          0.          0.\n",
        "   0.          0.        ]\n",
        " [ 0.02123188  0.         -0.00772947  0.          0.11594203  0.\n",
        "   0.05525362  0.11594203 -0.01004831]]\n"
       ]
      }
     ],
     "prompt_number": 13
    },
    {
     "cell_type": "heading",
     "level": 3,
     "metadata": {},
     "source": [
      "Advanced example 3: Byproduct technology and product substitution construct"
     ]
    },
    {
     "cell_type": "markdown",
     "metadata": {},
     "source": [
      "The principle behind the byproduct technology assumption is that the byproducts substitute for other products in the system. The question is, which product they substitute for and what is the ratio of substitution? For the BTC to work, each product needs to have a main supplier, which in the logic of the BTC is also the marginal supplier. To prepare application of the BTC or its generalized version, the product substitution construct (Majeau-Bettez et al. 2014), one needs to study the supply table to understand whether exclusive byproducts are present. For this method to work, one needs to make sure that the supposed main product is on the diagonal of the supply table. If this is not the case, one can use the E_bar method to estimate the main products."
     ]
    },
    {
     "cell_type": "code",
     "collapsed": false,
     "input": [
      "V_Test = np.array([ [30,1,1,1,0,0], # in pySUT, the supply table is always in commodity by industry!\n",
      "                    [1,0,1,0,0,0],\n",
      "                    [2,0,3,1,0,0],\n",
      "                    [0,0,0,0,0,0],\n",
      "                    [0,0,0,0,8,0],\n",
      "                    [0,0,0,0,0,0]])\n",
      "\n",
      "SUT   = SupplyUseTable(V = V_Test)\n",
      "SupplyDiag_Eval = SUT.supply_diag_check()\n",
      "print(SupplyDiag_Eval)"
     ],
     "language": "python",
     "metadata": {},
     "outputs": [
      {
       "output_type": "stream",
       "stream": "stdout",
       "text": [
        "[[  1.   0.   0.   0.   0.  33.  33.]\n",
        " [  0.   1.   0.   0.   0.   2.   1.]\n",
        " [  1.   0.   0.   0.   0.   6.   5.]\n",
        " [  0.   0.   0.   1.   0.   0.   2.]\n",
        " [  1.   0.   0.   0.   0.   8.   8.]\n",
        " [  0.   0.   0.   0.   1.   0.   0.]]\n"
       ]
      }
     ],
     "prompt_number": 14
    },
    {
     "cell_type": "markdown",
     "metadata": {},
     "source": [
      "A 1 in the first column means that the sector produces its presumed main product. (Normal case)\n",
      "A 1 in the second column means that the presumed main producer does not supply this product. (Exclusive byproduct)\n",
      "A 1 in the third column means that the product is only produced by other sectors, this sector does not produce anything.\n",
      "A 1 in the forth column means that the product is not produced by any sector, apparent main sector produces only other products.\n",
      "A 1 in the fifth column means that the product is not produced by any sector and the apparent main sector does not produce anyting.\n",
      "\n",
      "The rightmost column shows the total supply of each industry (g).\n",
      "The second column from the right shows the total supply of each commodity (q)."
     ]
    },
    {
     "cell_type": "markdown",
     "metadata": {},
     "source": [
      "The exclusive byproducts can be removed or aggregated with other sectors for the BTC construct to work. \n",
      "For this purpose, pySUT contains the 'clear_non_diag_supply' and 'add_ones_to_diagonal' methods.\n",
      "The first removes all production from the SUT, where there is no main producer, and adds a dummy '1' to the diagonal element of that sector. This methods allows users to apply the BTC in a 'brute force' manner.\n",
      "For 'cleaner' application, the build_E_bar and psc_agg methods are recommended, and we provide an example for the multiregional case:\n",
      "\n",
      "For multiregional SU-tables, one can assume that the exclusive byproducts of one region substitute the output of main/marginal suppliers in other regions. In the simplest case, this substitution occurs according to the market share of the main suppliers on the world market. This estimation was used in the build_mr_Xi method, which builds a substitution table for the (exclusive) by-products (Majeau-Bettez et al. 2014).\n"
     ]
    },
    {
     "cell_type": "code",
     "collapsed": false,
     "input": [
      "V_3r2i3p = np.array([\n",
      "                         #   Ca   Ca     No   No     US   US\n",
      "                         #   I    J      I    J      I    J\n",
      "                         [   4.,  0.,    0.,  0.,    0.,  0.,  ],     #i  Ca\n",
      "                         [   0.,  0.,    0.,  0.,    0.,  0.,  ],     #j  Ca\n",
      "                         [   0.,  3.,    0.,  0.,    0.,  0.,  ],     #k  Ca\n",
      "                         #\n",
      "                         [   0.,  0.,    0.,  0.,    0.,  0.,  ],     #i  No\n",
      "                         [   0.,  0.,    3.,  0.,    0.,  0.,  ],     #j  No\n",
      "                         [   0.,  0.,    0.,  0.,    0.,  0.,  ],     #k  No\n",
      "                         #\n",
      "                         [   0.,  0.,    0.,  0.,    8.,  0.,  ],     #i  US\n",
      "                         [   0.13,  0.2,    0.45,  0.,    0.5,  0.78,  ],     #j  US\n",
      "                         [   0.,  0.,    0.,  0.,    0.,  9.,  ]])    #k  US\n",
      "\n",
      "U_3r2i3p = np.array([\n",
      "                         #   Ca  Ca    No  No     US   US\n",
      "                         #   I   J     I   J      I    J\n",
      "                         [  .0, .1,   .5,  0,    0,  0,  ],     #i  Ca\n",
      "                         [   0,  0,    0,  0,    0,  0,  ],     #j  Ca\n",
      "                         [  .2, .0,    0,  0,    0,  0,  ],     #k  Ca\n",
      "                         #\n",
      "                         [   0,  0,    0,  0,    0,  0,  ],     #i  No\n",
      "                         [  .3,  0,   .0,  0,   .5,  0,  ],     #j  No\n",
      "                         [   0,  0,    0,  0,    0,  0,  ],     #k  No\n",
      "                         #\n",
      "                         [   0,  0,    0,  0,   .0, .9,  ],     #i  US\n",
      "                         [   0,  0,    0,  0,    0,  0,  ],     #j  US\n",
      "                         [  .1,  0,   .4,  0,   .5, .0,  ]])    #k  US\n",
      "\n",
      "SUT   = SupplyUseTable(V = V_3r2i3p, U = U_3r2i3p, regions =3)\n",
      "SUT.build_E_bar()\n",
      "SUT.build_mr_Xi()\n",
      "print(SUT.Xi)"
     ],
     "language": "python",
     "metadata": {},
     "outputs": [
      {
       "output_type": "stream",
       "stream": "stdout",
       "text": [
        "[[ 1.          0.          0.          0.33333333  0.          0.          0.\n",
        "   0.          0.        ]\n",
        " [ 0.          0.          0.          0.          0.          0.          0.\n",
        "   0.          0.        ]\n",
        " [ 0.          0.          1.          0.          0.          0.25        0.\n",
        "   0.          0.        ]\n",
        " [ 0.          0.          0.          0.          0.          0.          0.\n",
        "   0.          0.        ]\n",
        " [ 0.          1.          0.          0.          1.          0.          0.\n",
        "   1.          0.        ]\n",
        " [ 0.          0.          0.          0.          0.          0.          0.\n",
        "   0.          0.        ]\n",
        " [ 0.          0.          0.          0.66666667  0.          0.          1.\n",
        "   0.          0.        ]\n",
        " [ 0.          0.          0.          0.          0.          0.          0.\n",
        "   0.          0.        ]\n",
        " [ 0.          0.          0.          0.          0.          0.75        0.\n",
        "   0.          1.        ]]\n"
       ]
      }
     ],
     "prompt_number": 15
    },
    {
     "cell_type": "markdown",
     "metadata": {},
     "source": [
      "This Xi matrix is matrix-multiplied to the by-products of the supply table to assign them to main products that are substituted by the byproduct flows.\n",
      "\n",
      "Finally, the A matrix in product substitution allocation, the general version of the byproduct technology construct, can be determined:"
     ]
    },
    {
     "cell_type": "code",
     "collapsed": false,
     "input": [
      "A, __, __, __, __, __, Z, __ = SUT.psc_agg()\n",
      "print(A)"
     ],
     "language": "python",
     "metadata": {},
     "outputs": [
      {
       "output_type": "stream",
       "stream": "stdout",
       "text": [
        "[[ 0.          0.          0.03333333  0.          0.16666667  0.          0.\n",
        "   0.          0.        ]\n",
        " [ 0.          0.          0.          0.          0.          0.          0.\n",
        "   0.          0.        ]\n",
        " [ 0.05        0.          0.          0.          0.          0.          0.\n",
        "   0.          0.        ]\n",
        " [ 0.          0.          0.          0.          0.          0.          0.\n",
        "   0.          0.        ]\n",
        " [ 0.0425      0.         -0.06666667  0.         -0.15        0.          0.\n",
        "   0.         -0.08666667]\n",
        " [ 0.          0.          0.          0.          0.          0.          0.\n",
        "   0.          0.        ]\n",
        " [ 0.          0.          0.          0.          0.          0.          0.\n",
        "   0.          0.1       ]\n",
        " [ 0.          0.          0.          0.          0.          0.          0.\n",
        "   0.          0.        ]\n",
        " [ 0.025       0.          0.          0.          0.13333333  0.          0.0625\n",
        "   0.          0.        ]]\n"
       ]
      }
     ],
     "prompt_number": 16
    },
    {
     "cell_type": "markdown",
     "metadata": {},
     "source": [
      "A salient feature of the BTC/PSC is that it allows for re-constructing the unallocated supply and use table to obtain the byproduct flows before substitution. A balances and technically meaningful description of the industrial processes can be obtained for any final demand. The equations are given for the BTC case, the more general PSC case is analog. Here, $\\hat{V}$ denotes the diagonal of the supply table (the main products), and $\\check{V}$ denotes the off-diagonal elements of the supply table (the by-products).\n",
      "$$ A_{BTC} = (U-\\check{V})\\cdot \\hat{V} = U\\cdot \\hat{V} - \\check{V}\\cdot \\hat{V} = A_{main} - A_{byprod}$$\n",
      "\n",
      "With any given $x$\n",
      "$$ x = L\\cdot y = (I-A_{main} + A_{byprod})^{-1}\\cdot y$$\n",
      "one can reconstruct the new SUT:\n",
      "$$\\hat{V}_{new} = \\hat{x}$$\n",
      "$$U_{new} = A_{main}\\cdot\\hat{x}$$\n",
      "$$\\check{V}_{new} = A_{byprod}\\cdot\\hat{x}$$\n",
      "\n",
      "We provide an example with the psc_agg method. For the simpler BTC case, the methods Build_BTC_Am_matrix and Build_BTC_Ab_matrix can be used."
     ]
    },
    {
     "cell_type": "code",
     "collapsed": false,
     "input": [
      "V_Test_byprod              = np.array([[30, 1, 1, 1, 0],\n",
      "                                       [1, 5, 1, 0, 0],\n",
      "                                       [2, 0, 3, 1, 0],\n",
      "                                       [0, 0, 1, 2, 0],\n",
      "                                       [0, 0, 0, 0, 8]])\n",
      "        \n",
      "U_Test_byprod              = np.array([[12, 4, 5, 1, 0],\n",
      "                                       [1, 1, 1, 0, 0],\n",
      "                                       [0, 1, 1, 1, 0],\n",
      "                                       [1, 0, 0, 0, 0],\n",
      "                                       [0, 1, 1, 1, 0]])  \n",
      "\n",
      "sut = SupplyUseTable(U =U_Test_byprod, V= V_Test_byprod)\n",
      "sut.build_E_bar() # E_bar is a unit matrix with the given example\n",
      "sut.build_mr_Xi() # Xi is a unit matrix with the given example\n",
      "print(sut.E_bar)\n",
      "print(sut.Xi)"
     ],
     "language": "python",
     "metadata": {},
     "outputs": [
      {
       "output_type": "stream",
       "stream": "stdout",
       "text": [
        "[[1 0 0 0 0]\n",
        " [0 1 0 0 0]\n",
        " [0 0 1 0 0]\n",
        " [0 0 0 1 0]\n",
        " [0 0 0 0 1]]\n",
        "[[ 1.  0.  0.  0.  0.]\n",
        " [ 0.  1.  0.  0.  0.]\n",
        " [ 0.  0.  1.  0.  0.]\n",
        " [ 0.  0.  0.  1.  0.]\n",
        " [ 0.  0.  0.  0.  1.]]\n"
       ]
      }
     ],
     "prompt_number": 17
    },
    {
     "cell_type": "code",
     "collapsed": false,
     "input": [
      "A, Am, Ab, __, __, __, Z, F_con = sut.psc_agg(keep_size=False)\n",
      "print(Am)\n",
      "print(Ab)\n",
      "print(A)"
     ],
     "language": "python",
     "metadata": {},
     "outputs": [
      {
       "output_type": "stream",
       "stream": "stdout",
       "text": [
        "[[ 0.4         0.8         1.66666667  0.5         0.        ]\n",
        " [ 0.03333333  0.2         0.33333333  0.          0.        ]\n",
        " [ 0.          0.2         0.33333333  0.5         0.        ]\n",
        " [ 0.03333333  0.          0.          0.          0.        ]\n",
        " [ 0.          0.2         0.33333333  0.5         0.        ]]\n",
        "[[ 0.          0.2         0.33333333  0.5         0.        ]\n",
        " [ 0.03333333  0.          0.33333333  0.          0.        ]\n",
        " [ 0.06666667  0.          0.          0.5         0.        ]\n",
        " [ 0.          0.          0.33333333  0.          0.        ]\n",
        " [ 0.          0.          0.          0.          0.        ]]\n",
        "[[ 0.4         0.6         1.33333333  0.          0.        ]\n",
        " [ 0.          0.2         0.          0.          0.        ]\n",
        " [-0.06666667  0.2         0.33333333  0.          0.        ]\n",
        " [ 0.03333333  0.         -0.33333333  0.          0.        ]\n",
        " [ 0.          0.2         0.33333333  0.5         0.        ]]\n"
       ]
      }
     ],
     "prompt_number": 18
    },
    {
     "cell_type": "code",
     "collapsed": false,
     "input": [
      "%matplotlib inline\n",
      "# this is only for the IPython notebook, not part of the python script!\n",
      "\n",
      "import matplotlib.pyplot as plt\n",
      "plt.imshow(Am,interpolation='nearest')\n",
      "plt.title('Technical coefficients for main products')\n",
      "plt.show();\n",
      "\n",
      "plt.imshow(-Ab,interpolation='nearest')\n",
      "plt.title('Technical coefficients for byproducts')\n",
      "plt.show();"
     ],
     "language": "python",
     "metadata": {},
     "outputs": [
      {
       "metadata": {},
       "output_type": "display_data",
       "png": "[encoded data removed]",
       "text": [
        "<matplotlib.figure.Figure at 0x5638eb8>"
       ]
      },
      {
       "metadata": {},
       "output_type": "display_data",
       "png": "[encoded data removed]",
       "text": [
        "<matplotlib.figure.Figure at 0x5638ba8>"
       ]
      }
     ],
     "prompt_number": 19
    },
    {
     "cell_type": "markdown",
     "metadata": {},
     "source": [
      "<b> This is all for the moment. Comments are welcome!</b>"
     ]
    }
   ],
   "metadata": {}
  }
 ]
}