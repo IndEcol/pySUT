{
 "metadata": {
  "name": "",
  "signature": "sha256:c9cd431f604405f3aec4363de3c095195d7180cbbe00762c760294838ff3e1aa"
 },
 "nbformat": 3,
 "nbformat_minor": 0,
 "worksheets": [
  {
   "cells": [
    {
     "cell_type": "heading",
     "level": 1,
     "metadata": {},
     "source": [
      "pySUT"
     ]
    },
    {
     "cell_type": "heading",
     "level": 3,
     "metadata": {},
     "source": [
      "Handling Supply and Use Tables in Python - Documentation and Tutorial"
     ]
    },
    {
     "cell_type": "markdown",
     "metadata": {},
     "source": [
      "This notebook demonstrates how to install and import the class.\n",
      "It also contains a short tutorial for how it is used."
     ]
    },
    {
     "cell_type": "heading",
     "level": 3,
     "metadata": {},
     "source": [
      "Dependencies"
     ]
    },
    {
     "cell_type": "markdown",
     "metadata": {},
     "source": [
      "Python 3.0 or later <br>\n",
      "numpy<br>\n",
      "matplotlib.pyplot<br>"
     ]
    },
    {
     "cell_type": "heading",
     "level": 3,
     "metadata": {},
     "source": [
      "Installation and import"
     ]
    },
    {
     "cell_type": "heading",
     "level": 4,
     "metadata": {},
     "source": [
      "a) Installation as package"
     ]
    },
    {
     "cell_type": "markdown",
     "metadata": {},
     "source": [
      "Pull the package via git pull or download as .zip file and unpack. Choose a convenient location (Here: 'C:\\MyPythonPackages\\'). Then open a console, change to the directory ../pySUT-master/, and install the package from the command line:\n",
      "\n",
      "    python setup.py install\n",
      "\n",
      "This makes the package available to Python. At any other place in a system with the same python installation, pydsm is now ready to be imported simply by\n",
      "\n",
      "    import pysut\n",
      "\n",
      "This setup also allows us to run the unit test:\n",
      "\n",
      "    import unittest\n",
      "\n",
      "    import pysut\n",
      "\n",
      "    import pysut.tests\n",
      "\n",
      "    unittest.main(pysut.tests, verbosity=2)\n",
      "\n",
      "Or, to run a specific test\n",
      "\n",
      "    unittest.main(pysut.tests.test_allocations_constructs, verbosity=2)\n"
     ]
    },
    {
     "cell_type": "heading",
     "level": 4,
     "metadata": {},
     "source": [
      "b) Manual installation, by modifying the python path"
     ]
    },
    {
     "cell_type": "markdown",
     "metadata": {},
     "source": [
      "Pull package via git pull or download as .zip file and unpack. Choose a convenient location (Here: 'C:\\MyPythonPackages\\'). \n",
      "The folder with the class is called pySUT-master, and there is another folder named pydsm inside. The latter one contains the actual class, you can see this from the presence of \\_\\_init\\_\\_.py \n",
      "Then the class needs to be imported. This can be done by adding the path of the class file pysut.py to the system path, and to import the class from there:"
     ]
    },
    {
     "cell_type": "code",
     "collapsed": false,
     "input": [
      "import sys\n",
      "sys.path.append('C:\\\\MyPythonPackages\\\\pySUT-Master\\\\pysut\\\\') "
     ],
     "language": "python",
     "metadata": {},
     "outputs": [],
     "prompt_number": 1
    },
    {
     "cell_type": "markdown",
     "metadata": {},
     "source": [
      "Just put your own path in the command above, and use \\\\ for subfolders. Again, the paths needs to point to the folder where the \\_\\_init\\_\\_.py is located.\n",
      "Now, the class can be imported:"
     ]
    },
    {
     "cell_type": "code",
     "collapsed": false,
     "input": [
      "from pysut import SupplyUseTable"
     ],
     "language": "python",
     "metadata": {},
     "outputs": [],
     "prompt_number": 2
    },
    {
     "cell_type": "heading",
     "level": 3,
     "metadata": {},
     "source": [
      "Basic example: "
     ]
    },
    {
     "cell_type": "markdown",
     "metadata": {},
     "source": [
      "Now, the class is ready to use. \n",
      "We first define a simple supply and use table:"
     ]
    },
    {
     "cell_type": "code",
     "collapsed": false,
     "input": [
      "import numpy as np\n",
      "\n",
      "Y_Test = np.array([11,4,3,0,5])\n",
      "\n",
      "V_Test = np.array([ [30,1,1,1,0],\n",
      "                    [1,5,1,0,0],\n",
      "                    [2,0,3,1,0],\n",
      "                    [0,0,1,0,0],\n",
      "                    [0,0,0,0,8]])\n",
      "\n",
      "U_Test = np.array([ [12,4,5,1,0],\n",
      "                    [1,1,1,0,0],\n",
      "                    [0,1,1,1,0],\n",
      "                    [1,0,0,0,0],\n",
      "                    [0,1,1,1,0]])               \n",
      "                    \n",
      "F_Test = np.array([ [30,5,18,22.03,7],\n",
      "                    [0.4,0.04,1,0.98,0.8]]) \n"
     ],
     "language": "python",
     "metadata": {},
     "outputs": [],
     "prompt_number": 3
    },
    {
     "cell_type": "markdown",
     "metadata": {},
     "source": [
      "We now create an instance of the SUT object and perform a number of operations."
     ]
    },
    {
     "cell_type": "code",
     "collapsed": false,
     "input": [
      "TestSUT = SupplyUseTable(V = V_Test, U = U_Test, Y = Y_Test, F = F_Test)\n",
      "TestSUT.dimension_check()"
     ],
     "language": "python",
     "metadata": {},
     "outputs": [
      {
       "metadata": {},
       "output_type": "pyout",
       "prompt_number": 4,
       "text": [
        "('<br><b> Checking dimensions of SUT structure</b><br>Supply table is present with 5 rows (products) and 5 columns (industries).<br>Use table is present with 5 rows (products) and 5 columns (industries).<br>Final demand is present with 5 rows (products) and 1 column (FD categories).<br>Industry extensions are present with 2 rows (stressors) and 5 columns (industries).<br>FD extensions are not present.<br>Trade link is not present.<br>',\n",
        " 1)"
       ]
      }
     ],
     "prompt_number": 4
    },
    {
     "cell_type": "markdown",
     "metadata": {},
     "source": [
      "An important quality check is the market balance B:\n",
      "$$ B = V\\cdot e - U\\cdot e - Y\\cdot e$$"
     ]
    },
    {
     "cell_type": "code",
     "collapsed": false,
     "input": [
      "MarketBal = TestSUT.market_balance()\n",
      "print(MarketBal)"
     ],
     "language": "python",
     "metadata": {},
     "outputs": [
      {
       "output_type": "stream",
       "stream": "stdout",
       "text": [
        "[0 0 0 0 0]\n"
       ]
      }
     ],
     "prompt_number": 5
    },
    {
     "cell_type": "markdown",
     "metadata": {},
     "source": [
      "With U, V, and F given, we can apply constructs to the SUT, for example, the industry technology construct (ITC):"
     ]
    },
    {
     "cell_type": "code",
     "collapsed": false,
     "input": [
      "A_ITC = TestSUT.Build_ITC_A_matrix_cxc()\n",
      "print(A_ITC)\n",
      "S_ITC = TestSUT.Build_ITC_cxc_S()\n",
      "print(S_ITC);"
     ],
     "language": "python",
     "metadata": {},
     "outputs": [
      {
       "output_type": "stream",
       "stream": "stdout",
       "text": [
        "[[ 0.39118457  0.64718615  0.62121212  0.83333333  0.        ]\n",
        " [ 0.03764922  0.14718615  0.09343434  0.16666667  0.        ]\n",
        " [ 0.02525253  0.14285714  0.16666667  0.16666667  0.        ]\n",
        " [ 0.02754821  0.004329    0.01010101  0.          0.        ]\n",
        " [ 0.02525253  0.14285714  0.16666667  0.16666667  0.        ]]\n",
        "[[ 1.27639578  1.15367965  3.63886364  3.          0.875     ]\n",
        " [ 0.03112029  0.03030303  0.1690404   0.16666667  0.1       ]]\n"
       ]
      }
     ],
     "prompt_number": 6
    },
    {
     "cell_type": "markdown",
     "metadata": {},
     "source": [
      "<b> To be continued!<b>"
     ]
    }
   ],
   "metadata": {}
  }
 ]
}